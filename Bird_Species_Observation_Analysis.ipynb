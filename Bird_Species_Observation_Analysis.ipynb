{
  "nbformat": 4,
  "nbformat_minor": 0,
  "metadata": {
    "colab": {
      "provenance": []
    },
    "kernelspec": {
      "name": "python3",
      "display_name": "Python 3"
    },
    "language_info": {
      "name": "python"
    }
  },
  "cells": [
    {
      "cell_type": "markdown",
      "source": [
        "# **Project Name - Bird Species Observation Analysis**"
      ],
      "metadata": {
        "id": "MGXM_bWgGTkc"
      }
    },
    {
      "cell_type": "markdown",
      "source": [
        "**Project Type** - Exploratory Data Analysis\n",
        "<br> **Contirbution** - Individual"
      ],
      "metadata": {
        "id": "IM0G_JEeU1nX"
      }
    },
    {
      "cell_type": "markdown",
      "source": [
        "# **Project Summary**\n"
      ],
      "metadata": {
        "id": "8XaH4UsAVI4d"
      }
    },
    {
      "cell_type": "markdown",
      "source": [
        "The Bird Species Observation Analysis project focuses on examining the diversity, distribution, and behavior of bird species across forest and grassland ecosystems using observational data collected from multiple administrative units. The primary goal is to clean, process, and analyze bird observation records to uncover ecological patterns influenced by habitat, seasonality, weather conditions, and observer behavior.\n",
        "\n",
        "The project involves:\n",
        "\n",
        "* Merging and cleaning multi-sheet Excel datasets\n",
        "\n",
        "*   \n",
        "Performing exploratory data analysis (EDA) to identify species trends\n",
        "*  Studying correlations between environmental factors and bird activity\n",
        "\n",
        "\n",
        "*   Creating interactive visualizations using Python and Streamlit\n",
        "*   Deriving conservation insights from bird species distribution and behavior\n",
        "\n",
        "\n",
        "\n",
        "\n",
        "\n",
        "\n",
        "\n",
        "\n",
        "\n",
        "\n"
      ],
      "metadata": {
        "id": "bc-Ux_yvVWbX"
      }
    },
    {
      "cell_type": "markdown",
      "source": [
        "# Git Hub Link -\n"
      ],
      "metadata": {
        "id": "YWOq04gWWqW4"
      }
    },
    {
      "cell_type": "markdown",
      "source": [
        "https://github.com/San-antony2025/bird-observation-analysis"
      ],
      "metadata": {
        "id": "QYlNVtRvW2MI"
      }
    },
    {
      "cell_type": "markdown",
      "source": [
        "# **Problem Statement**"
      ],
      "metadata": {
        "id": "zCnJSq2_W2_O"
      }
    },
    {
      "cell_type": "markdown",
      "source": [
        "Bird populations are highly sensitive to changes in their environment. Understanding their behavior and habitat preferences is essential for biodiversity conservation and ecological planning. However, analyzing large-scale, multi-location bird observation data poses challenges such as inconsistent formats, missing values, and complex interdependencies between variables.\n",
        "\n",
        "This project aims to:\n",
        "\n",
        "* Analyze bird species distribution across forest vs. grassland habitats\n",
        "\n",
        "* Understand the influence of environmental factors like temperature, wind, and humidity on bird activity\n",
        "\n",
        "* Identify biodiversity hotspots, observer biases, and species at risk\n",
        "\n",
        "* Uncover patterns in seasonal and geographic bird behaviors"
      ],
      "metadata": {
        "id": "gwyjAUcMW_2W"
      }
    },
    {
      "cell_type": "markdown",
      "source": [
        "# **Business Objective**"
      ],
      "metadata": {
        "id": "ZWSPkxpoXQ4F"
      }
    },
    {
      "cell_type": "markdown",
      "source": [
        "The findings from this project can support several real-world applications:\n",
        "\n",
        "\n",
        "\n",
        "1.   **Wildlife Conservation**\n",
        " * Identify at-risk species and habitats requiring protection\n",
        " * Use species frequency and watchlist status for conservation planning\n",
        "\n",
        "\n",
        "2. **Land and Habitat Management**\n",
        "  * Guide ecological restoration and zoning based on species preference by habitat type\n",
        "3. **Eco-Tourism Development**\n",
        "  * Highlight bird-rich regions and seasons to promote nature-based tourism\n",
        "\n",
        "4. **Sustainable Agriculture**\n",
        "\n",
        " * Inform farming practices that are compatible with bird habitat preservation\n",
        "\n",
        "5. **Environmental Policy & Stewardship**\n",
        "\n",
        " * Provide data-backed evidence for decision-making in policy design and regional conservation efforts\n",
        "\n",
        "6. **Biodiversity Monitoring**\n",
        "\n",
        " * Track long-term trends in bird diversity to assess ecosystem health and climate impacts\n",
        "  \n",
        "\n",
        "\n",
        "\n"
      ],
      "metadata": {
        "id": "_1PXV0PEXXGL"
      }
    },
    {
      "cell_type": "markdown",
      "source": [
        "# **1.Know Your Data**"
      ],
      "metadata": {
        "id": "jbDkf23JYj2H"
      }
    },
    {
      "cell_type": "code",
      "source": [
        "import pandas as pd\n",
        "\n",
        "# Raw GitHub links\n",
        "forest_url = \"https://raw.githubusercontent.com/San-antony2025/bird-observation-analysis/main/Bird_Monitoring_Data_FOREST.XLSX\"\n",
        "grassland_url = \"https://raw.githubusercontent.com/San-antony2025/bird-observation-analysis/main/Bird_Monitoring_Data_GRASSLAND.XLSX\"\n",
        "\n",
        "# Read all sheets from each file\n",
        "forest_sheets = pd.read_excel(forest_url, sheet_name=None)\n",
        "grassland_sheets = pd.read_excel(grassland_url, sheet_name=None)\n",
        "\n",
        "# Combine all forest sheets into one DataFrame\n",
        "forest_df = pd.concat(forest_sheets.values(), ignore_index=True)\n",
        "\n",
        "# Combine selected sheets from grassland\n",
        "selected_sheets = [\"ANTI\", \"HAFE\", \"MANA\", \"MONO\"]\n",
        "grassland_df = pd.concat([grassland_sheets[sheet] for sheet in selected_sheets if sheet in grassland_sheets], ignore_index=True)\n",
        "\n",
        "# Merge both habitat datasets\n",
        "combined_df = pd.concat([forest_df, grassland_df], ignore_index=True)\n",
        "\n",
        "# Preview the combined dataset\n",
        "print(\"Total rows:\", combined_df.shape[0])\n",
        "print(\"Total columns:\", combined_df.shape[1])\n",
        "combined_df.head()\n"
      ],
      "metadata": {
        "colab": {
          "base_uri": "https://localhost:8080/",
          "height": 637
        },
        "id": "0KyndcogYob2",
        "outputId": "7605001d-c0a7-4b2c-e9ad-73bc295bb642"
      },
      "execution_count": null,
      "outputs": [
        {
          "output_type": "stream",
          "name": "stdout",
          "text": [
            "Total rows: 17077\n",
            "Total columns: 31\n"
          ]
        },
        {
          "output_type": "execute_result",
          "data": {
            "text/plain": [
              "  Admin_Unit_Code Sub_Unit_Code Site_Name  Plot_Name Location_Type  Year  \\\n",
              "0            ANTI           NaN    ANTI 1  ANTI-0036        Forest  2018   \n",
              "1            ANTI           NaN    ANTI 1  ANTI-0036        Forest  2018   \n",
              "2            ANTI           NaN    ANTI 1  ANTI-0036        Forest  2018   \n",
              "3            ANTI           NaN    ANTI 1  ANTI-0036        Forest  2018   \n",
              "4            ANTI           NaN    ANTI 1  ANTI-0036        Forest  2018   \n",
              "\n",
              "        Date Start_Time  End_Time          Observer  ...  \\\n",
              "0 2018-05-22   06:19:00  06:29:00  Elizabeth Oswald  ...   \n",
              "1 2018-05-22   06:19:00  06:29:00  Elizabeth Oswald  ...   \n",
              "2 2018-05-22   06:19:00  06:29:00  Elizabeth Oswald  ...   \n",
              "3 2018-05-22   06:19:00  06:29:00  Elizabeth Oswald  ...   \n",
              "4 2018-05-22   06:19:00  06:29:00  Elizabeth Oswald  ...   \n",
              "\n",
              "   PIF_Watchlist_Status Regional_Stewardship_Status Temperature   Humidity  \\\n",
              "0                 False                        True        19.9  79.400002   \n",
              "1                 False                       False        19.9  79.400002   \n",
              "2                 False                       False        19.9  79.400002   \n",
              "3                 False                       False        19.9  79.400002   \n",
              "4                 False                       False        19.9  79.400002   \n",
              "\n",
              "               Sky                                   Wind         Disturbance  \\\n",
              "0  Cloudy/Overcast  Calm (< 1 mph) smoke rises vertically  No effect on count   \n",
              "1  Cloudy/Overcast  Calm (< 1 mph) smoke rises vertically  No effect on count   \n",
              "2  Cloudy/Overcast  Calm (< 1 mph) smoke rises vertically  No effect on count   \n",
              "3  Cloudy/Overcast  Calm (< 1 mph) smoke rises vertically  No effect on count   \n",
              "4  Cloudy/Overcast  Calm (< 1 mph) smoke rises vertically  No effect on count   \n",
              "\n",
              "  Initial_Three_Min_Cnt  TaxonCode  Previously_Obs  \n",
              "0                  True        NaN             NaN  \n",
              "1                  True        NaN             NaN  \n",
              "2                 False        NaN             NaN  \n",
              "3                 False        NaN             NaN  \n",
              "4                 False        NaN             NaN  \n",
              "\n",
              "[5 rows x 31 columns]"
            ],
            "text/html": [
              "\n",
              "  <div id=\"df-f32af4a3-db4d-4965-9c1e-dd46c9a1b07b\" class=\"colab-df-container\">\n",
              "    <div>\n",
              "<style scoped>\n",
              "    .dataframe tbody tr th:only-of-type {\n",
              "        vertical-align: middle;\n",
              "    }\n",
              "\n",
              "    .dataframe tbody tr th {\n",
              "        vertical-align: top;\n",
              "    }\n",
              "\n",
              "    .dataframe thead th {\n",
              "        text-align: right;\n",
              "    }\n",
              "</style>\n",
              "<table border=\"1\" class=\"dataframe\">\n",
              "  <thead>\n",
              "    <tr style=\"text-align: right;\">\n",
              "      <th></th>\n",
              "      <th>Admin_Unit_Code</th>\n",
              "      <th>Sub_Unit_Code</th>\n",
              "      <th>Site_Name</th>\n",
              "      <th>Plot_Name</th>\n",
              "      <th>Location_Type</th>\n",
              "      <th>Year</th>\n",
              "      <th>Date</th>\n",
              "      <th>Start_Time</th>\n",
              "      <th>End_Time</th>\n",
              "      <th>Observer</th>\n",
              "      <th>...</th>\n",
              "      <th>PIF_Watchlist_Status</th>\n",
              "      <th>Regional_Stewardship_Status</th>\n",
              "      <th>Temperature</th>\n",
              "      <th>Humidity</th>\n",
              "      <th>Sky</th>\n",
              "      <th>Wind</th>\n",
              "      <th>Disturbance</th>\n",
              "      <th>Initial_Three_Min_Cnt</th>\n",
              "      <th>TaxonCode</th>\n",
              "      <th>Previously_Obs</th>\n",
              "    </tr>\n",
              "  </thead>\n",
              "  <tbody>\n",
              "    <tr>\n",
              "      <th>0</th>\n",
              "      <td>ANTI</td>\n",
              "      <td>NaN</td>\n",
              "      <td>ANTI 1</td>\n",
              "      <td>ANTI-0036</td>\n",
              "      <td>Forest</td>\n",
              "      <td>2018</td>\n",
              "      <td>2018-05-22</td>\n",
              "      <td>06:19:00</td>\n",
              "      <td>06:29:00</td>\n",
              "      <td>Elizabeth Oswald</td>\n",
              "      <td>...</td>\n",
              "      <td>False</td>\n",
              "      <td>True</td>\n",
              "      <td>19.9</td>\n",
              "      <td>79.400002</td>\n",
              "      <td>Cloudy/Overcast</td>\n",
              "      <td>Calm (&lt; 1 mph) smoke rises vertically</td>\n",
              "      <td>No effect on count</td>\n",
              "      <td>True</td>\n",
              "      <td>NaN</td>\n",
              "      <td>NaN</td>\n",
              "    </tr>\n",
              "    <tr>\n",
              "      <th>1</th>\n",
              "      <td>ANTI</td>\n",
              "      <td>NaN</td>\n",
              "      <td>ANTI 1</td>\n",
              "      <td>ANTI-0036</td>\n",
              "      <td>Forest</td>\n",
              "      <td>2018</td>\n",
              "      <td>2018-05-22</td>\n",
              "      <td>06:19:00</td>\n",
              "      <td>06:29:00</td>\n",
              "      <td>Elizabeth Oswald</td>\n",
              "      <td>...</td>\n",
              "      <td>False</td>\n",
              "      <td>False</td>\n",
              "      <td>19.9</td>\n",
              "      <td>79.400002</td>\n",
              "      <td>Cloudy/Overcast</td>\n",
              "      <td>Calm (&lt; 1 mph) smoke rises vertically</td>\n",
              "      <td>No effect on count</td>\n",
              "      <td>True</td>\n",
              "      <td>NaN</td>\n",
              "      <td>NaN</td>\n",
              "    </tr>\n",
              "    <tr>\n",
              "      <th>2</th>\n",
              "      <td>ANTI</td>\n",
              "      <td>NaN</td>\n",
              "      <td>ANTI 1</td>\n",
              "      <td>ANTI-0036</td>\n",
              "      <td>Forest</td>\n",
              "      <td>2018</td>\n",
              "      <td>2018-05-22</td>\n",
              "      <td>06:19:00</td>\n",
              "      <td>06:29:00</td>\n",
              "      <td>Elizabeth Oswald</td>\n",
              "      <td>...</td>\n",
              "      <td>False</td>\n",
              "      <td>False</td>\n",
              "      <td>19.9</td>\n",
              "      <td>79.400002</td>\n",
              "      <td>Cloudy/Overcast</td>\n",
              "      <td>Calm (&lt; 1 mph) smoke rises vertically</td>\n",
              "      <td>No effect on count</td>\n",
              "      <td>False</td>\n",
              "      <td>NaN</td>\n",
              "      <td>NaN</td>\n",
              "    </tr>\n",
              "    <tr>\n",
              "      <th>3</th>\n",
              "      <td>ANTI</td>\n",
              "      <td>NaN</td>\n",
              "      <td>ANTI 1</td>\n",
              "      <td>ANTI-0036</td>\n",
              "      <td>Forest</td>\n",
              "      <td>2018</td>\n",
              "      <td>2018-05-22</td>\n",
              "      <td>06:19:00</td>\n",
              "      <td>06:29:00</td>\n",
              "      <td>Elizabeth Oswald</td>\n",
              "      <td>...</td>\n",
              "      <td>False</td>\n",
              "      <td>False</td>\n",
              "      <td>19.9</td>\n",
              "      <td>79.400002</td>\n",
              "      <td>Cloudy/Overcast</td>\n",
              "      <td>Calm (&lt; 1 mph) smoke rises vertically</td>\n",
              "      <td>No effect on count</td>\n",
              "      <td>False</td>\n",
              "      <td>NaN</td>\n",
              "      <td>NaN</td>\n",
              "    </tr>\n",
              "    <tr>\n",
              "      <th>4</th>\n",
              "      <td>ANTI</td>\n",
              "      <td>NaN</td>\n",
              "      <td>ANTI 1</td>\n",
              "      <td>ANTI-0036</td>\n",
              "      <td>Forest</td>\n",
              "      <td>2018</td>\n",
              "      <td>2018-05-22</td>\n",
              "      <td>06:19:00</td>\n",
              "      <td>06:29:00</td>\n",
              "      <td>Elizabeth Oswald</td>\n",
              "      <td>...</td>\n",
              "      <td>False</td>\n",
              "      <td>False</td>\n",
              "      <td>19.9</td>\n",
              "      <td>79.400002</td>\n",
              "      <td>Cloudy/Overcast</td>\n",
              "      <td>Calm (&lt; 1 mph) smoke rises vertically</td>\n",
              "      <td>No effect on count</td>\n",
              "      <td>False</td>\n",
              "      <td>NaN</td>\n",
              "      <td>NaN</td>\n",
              "    </tr>\n",
              "  </tbody>\n",
              "</table>\n",
              "<p>5 rows × 31 columns</p>\n",
              "</div>\n",
              "    <div class=\"colab-df-buttons\">\n",
              "\n",
              "  <div class=\"colab-df-container\">\n",
              "    <button class=\"colab-df-convert\" onclick=\"convertToInteractive('df-f32af4a3-db4d-4965-9c1e-dd46c9a1b07b')\"\n",
              "            title=\"Convert this dataframe to an interactive table.\"\n",
              "            style=\"display:none;\">\n",
              "\n",
              "  <svg xmlns=\"http://www.w3.org/2000/svg\" height=\"24px\" viewBox=\"0 -960 960 960\">\n",
              "    <path d=\"M120-120v-720h720v720H120Zm60-500h600v-160H180v160Zm220 220h160v-160H400v160Zm0 220h160v-160H400v160ZM180-400h160v-160H180v160Zm440 0h160v-160H620v160ZM180-180h160v-160H180v160Zm440 0h160v-160H620v160Z\"/>\n",
              "  </svg>\n",
              "    </button>\n",
              "\n",
              "  <style>\n",
              "    .colab-df-container {\n",
              "      display:flex;\n",
              "      gap: 12px;\n",
              "    }\n",
              "\n",
              "    .colab-df-convert {\n",
              "      background-color: #E8F0FE;\n",
              "      border: none;\n",
              "      border-radius: 50%;\n",
              "      cursor: pointer;\n",
              "      display: none;\n",
              "      fill: #1967D2;\n",
              "      height: 32px;\n",
              "      padding: 0 0 0 0;\n",
              "      width: 32px;\n",
              "    }\n",
              "\n",
              "    .colab-df-convert:hover {\n",
              "      background-color: #E2EBFA;\n",
              "      box-shadow: 0px 1px 2px rgba(60, 64, 67, 0.3), 0px 1px 3px 1px rgba(60, 64, 67, 0.15);\n",
              "      fill: #174EA6;\n",
              "    }\n",
              "\n",
              "    .colab-df-buttons div {\n",
              "      margin-bottom: 4px;\n",
              "    }\n",
              "\n",
              "    [theme=dark] .colab-df-convert {\n",
              "      background-color: #3B4455;\n",
              "      fill: #D2E3FC;\n",
              "    }\n",
              "\n",
              "    [theme=dark] .colab-df-convert:hover {\n",
              "      background-color: #434B5C;\n",
              "      box-shadow: 0px 1px 3px 1px rgba(0, 0, 0, 0.15);\n",
              "      filter: drop-shadow(0px 1px 2px rgba(0, 0, 0, 0.3));\n",
              "      fill: #FFFFFF;\n",
              "    }\n",
              "  </style>\n",
              "\n",
              "    <script>\n",
              "      const buttonEl =\n",
              "        document.querySelector('#df-f32af4a3-db4d-4965-9c1e-dd46c9a1b07b button.colab-df-convert');\n",
              "      buttonEl.style.display =\n",
              "        google.colab.kernel.accessAllowed ? 'block' : 'none';\n",
              "\n",
              "      async function convertToInteractive(key) {\n",
              "        const element = document.querySelector('#df-f32af4a3-db4d-4965-9c1e-dd46c9a1b07b');\n",
              "        const dataTable =\n",
              "          await google.colab.kernel.invokeFunction('convertToInteractive',\n",
              "                                                    [key], {});\n",
              "        if (!dataTable) return;\n",
              "\n",
              "        const docLinkHtml = 'Like what you see? Visit the ' +\n",
              "          '<a target=\"_blank\" href=https://colab.research.google.com/notebooks/data_table.ipynb>data table notebook</a>'\n",
              "          + ' to learn more about interactive tables.';\n",
              "        element.innerHTML = '';\n",
              "        dataTable['output_type'] = 'display_data';\n",
              "        await google.colab.output.renderOutput(dataTable, element);\n",
              "        const docLink = document.createElement('div');\n",
              "        docLink.innerHTML = docLinkHtml;\n",
              "        element.appendChild(docLink);\n",
              "      }\n",
              "    </script>\n",
              "  </div>\n",
              "\n",
              "\n",
              "    <div id=\"df-292d95c0-aa94-4adf-96ae-38d87fe10f06\">\n",
              "      <button class=\"colab-df-quickchart\" onclick=\"quickchart('df-292d95c0-aa94-4adf-96ae-38d87fe10f06')\"\n",
              "                title=\"Suggest charts\"\n",
              "                style=\"display:none;\">\n",
              "\n",
              "<svg xmlns=\"http://www.w3.org/2000/svg\" height=\"24px\"viewBox=\"0 0 24 24\"\n",
              "     width=\"24px\">\n",
              "    <g>\n",
              "        <path d=\"M19 3H5c-1.1 0-2 .9-2 2v14c0 1.1.9 2 2 2h14c1.1 0 2-.9 2-2V5c0-1.1-.9-2-2-2zM9 17H7v-7h2v7zm4 0h-2V7h2v10zm4 0h-2v-4h2v4z\"/>\n",
              "    </g>\n",
              "</svg>\n",
              "      </button>\n",
              "\n",
              "<style>\n",
              "  .colab-df-quickchart {\n",
              "      --bg-color: #E8F0FE;\n",
              "      --fill-color: #1967D2;\n",
              "      --hover-bg-color: #E2EBFA;\n",
              "      --hover-fill-color: #174EA6;\n",
              "      --disabled-fill-color: #AAA;\n",
              "      --disabled-bg-color: #DDD;\n",
              "  }\n",
              "\n",
              "  [theme=dark] .colab-df-quickchart {\n",
              "      --bg-color: #3B4455;\n",
              "      --fill-color: #D2E3FC;\n",
              "      --hover-bg-color: #434B5C;\n",
              "      --hover-fill-color: #FFFFFF;\n",
              "      --disabled-bg-color: #3B4455;\n",
              "      --disabled-fill-color: #666;\n",
              "  }\n",
              "\n",
              "  .colab-df-quickchart {\n",
              "    background-color: var(--bg-color);\n",
              "    border: none;\n",
              "    border-radius: 50%;\n",
              "    cursor: pointer;\n",
              "    display: none;\n",
              "    fill: var(--fill-color);\n",
              "    height: 32px;\n",
              "    padding: 0;\n",
              "    width: 32px;\n",
              "  }\n",
              "\n",
              "  .colab-df-quickchart:hover {\n",
              "    background-color: var(--hover-bg-color);\n",
              "    box-shadow: 0 1px 2px rgba(60, 64, 67, 0.3), 0 1px 3px 1px rgba(60, 64, 67, 0.15);\n",
              "    fill: var(--button-hover-fill-color);\n",
              "  }\n",
              "\n",
              "  .colab-df-quickchart-complete:disabled,\n",
              "  .colab-df-quickchart-complete:disabled:hover {\n",
              "    background-color: var(--disabled-bg-color);\n",
              "    fill: var(--disabled-fill-color);\n",
              "    box-shadow: none;\n",
              "  }\n",
              "\n",
              "  .colab-df-spinner {\n",
              "    border: 2px solid var(--fill-color);\n",
              "    border-color: transparent;\n",
              "    border-bottom-color: var(--fill-color);\n",
              "    animation:\n",
              "      spin 1s steps(1) infinite;\n",
              "  }\n",
              "\n",
              "  @keyframes spin {\n",
              "    0% {\n",
              "      border-color: transparent;\n",
              "      border-bottom-color: var(--fill-color);\n",
              "      border-left-color: var(--fill-color);\n",
              "    }\n",
              "    20% {\n",
              "      border-color: transparent;\n",
              "      border-left-color: var(--fill-color);\n",
              "      border-top-color: var(--fill-color);\n",
              "    }\n",
              "    30% {\n",
              "      border-color: transparent;\n",
              "      border-left-color: var(--fill-color);\n",
              "      border-top-color: var(--fill-color);\n",
              "      border-right-color: var(--fill-color);\n",
              "    }\n",
              "    40% {\n",
              "      border-color: transparent;\n",
              "      border-right-color: var(--fill-color);\n",
              "      border-top-color: var(--fill-color);\n",
              "    }\n",
              "    60% {\n",
              "      border-color: transparent;\n",
              "      border-right-color: var(--fill-color);\n",
              "    }\n",
              "    80% {\n",
              "      border-color: transparent;\n",
              "      border-right-color: var(--fill-color);\n",
              "      border-bottom-color: var(--fill-color);\n",
              "    }\n",
              "    90% {\n",
              "      border-color: transparent;\n",
              "      border-bottom-color: var(--fill-color);\n",
              "    }\n",
              "  }\n",
              "</style>\n",
              "\n",
              "      <script>\n",
              "        async function quickchart(key) {\n",
              "          const quickchartButtonEl =\n",
              "            document.querySelector('#' + key + ' button');\n",
              "          quickchartButtonEl.disabled = true;  // To prevent multiple clicks.\n",
              "          quickchartButtonEl.classList.add('colab-df-spinner');\n",
              "          try {\n",
              "            const charts = await google.colab.kernel.invokeFunction(\n",
              "                'suggestCharts', [key], {});\n",
              "          } catch (error) {\n",
              "            console.error('Error during call to suggestCharts:', error);\n",
              "          }\n",
              "          quickchartButtonEl.classList.remove('colab-df-spinner');\n",
              "          quickchartButtonEl.classList.add('colab-df-quickchart-complete');\n",
              "        }\n",
              "        (() => {\n",
              "          let quickchartButtonEl =\n",
              "            document.querySelector('#df-292d95c0-aa94-4adf-96ae-38d87fe10f06 button');\n",
              "          quickchartButtonEl.style.display =\n",
              "            google.colab.kernel.accessAllowed ? 'block' : 'none';\n",
              "        })();\n",
              "      </script>\n",
              "    </div>\n",
              "\n",
              "    </div>\n",
              "  </div>\n"
            ],
            "application/vnd.google.colaboratory.intrinsic+json": {
              "type": "dataframe",
              "variable_name": "combined_df"
            }
          },
          "metadata": {},
          "execution_count": 4
        }
      ]
    },
    {
      "cell_type": "markdown",
      "source": [
        "# **2.Data Cleaning & Pre-processing**"
      ],
      "metadata": {
        "id": "crLnfp1Mrdek"
      }
    },
    {
      "cell_type": "code",
      "source": [
        "#checking shape, rows, columns\n",
        "print(combined_df.shape)\n",
        "print(combined_df.columns)\n",
        "combined_df.info()\n"
      ],
      "metadata": {
        "colab": {
          "base_uri": "https://localhost:8080/"
        },
        "id": "B-ZPZG7zrle3",
        "outputId": "f4e1c610-1a82-4d72-e6f9-2c4a21bead2e"
      },
      "execution_count": null,
      "outputs": [
        {
          "output_type": "stream",
          "name": "stdout",
          "text": [
            "(17077, 31)\n",
            "Index(['Admin_Unit_Code', 'Sub_Unit_Code', 'Site_Name', 'Plot_Name',\n",
            "       'Location_Type', 'Year', 'Date', 'Start_Time', 'End_Time', 'Observer',\n",
            "       'Visit', 'Interval_Length', 'ID_Method', 'Distance', 'Flyover_Observed',\n",
            "       'Sex', 'Common_Name', 'Scientific_Name', 'AcceptedTSN', 'NPSTaxonCode',\n",
            "       'AOU_Code', 'PIF_Watchlist_Status', 'Regional_Stewardship_Status',\n",
            "       'Temperature', 'Humidity', 'Sky', 'Wind', 'Disturbance',\n",
            "       'Initial_Three_Min_Cnt', 'TaxonCode', 'Previously_Obs'],\n",
            "      dtype='object')\n",
            "<class 'pandas.core.frame.DataFrame'>\n",
            "RangeIndex: 17077 entries, 0 to 17076\n",
            "Data columns (total 31 columns):\n",
            " #   Column                       Non-Null Count  Dtype         \n",
            "---  ------                       --------------  -----         \n",
            " 0   Admin_Unit_Code              17077 non-null  object        \n",
            " 1   Sub_Unit_Code                722 non-null    object        \n",
            " 2   Site_Name                    8546 non-null   object        \n",
            " 3   Plot_Name                    17077 non-null  object        \n",
            " 4   Location_Type                17077 non-null  object        \n",
            " 5   Year                         17077 non-null  int64         \n",
            " 6   Date                         17077 non-null  datetime64[ns]\n",
            " 7   Start_Time                   17077 non-null  object        \n",
            " 8   End_Time                     17077 non-null  object        \n",
            " 9   Observer                     17077 non-null  object        \n",
            " 10  Visit                        17077 non-null  int64         \n",
            " 11  Interval_Length              17077 non-null  object        \n",
            " 12  ID_Method                    17075 non-null  object        \n",
            " 13  Distance                     15591 non-null  object        \n",
            " 14  Flyover_Observed             17077 non-null  bool          \n",
            " 15  Sex                          11894 non-null  object        \n",
            " 16  Common_Name                  17077 non-null  object        \n",
            " 17  Scientific_Name              17077 non-null  object        \n",
            " 18  AcceptedTSN                  17044 non-null  float64       \n",
            " 19  NPSTaxonCode                 8546 non-null   float64       \n",
            " 20  AOU_Code                     17077 non-null  object        \n",
            " 21  PIF_Watchlist_Status         17077 non-null  bool          \n",
            " 22  Regional_Stewardship_Status  17077 non-null  bool          \n",
            " 23  Temperature                  17077 non-null  float64       \n",
            " 24  Humidity                     17077 non-null  float64       \n",
            " 25  Sky                          17077 non-null  object        \n",
            " 26  Wind                         17077 non-null  object        \n",
            " 27  Disturbance                  17077 non-null  object        \n",
            " 28  Initial_Three_Min_Cnt        17077 non-null  bool          \n",
            " 29  TaxonCode                    8529 non-null   float64       \n",
            " 30  Previously_Obs               8531 non-null   object        \n",
            "dtypes: bool(4), datetime64[ns](1), float64(5), int64(2), object(19)\n",
            "memory usage: 3.6+ MB\n"
          ]
        }
      ]
    },
    {
      "cell_type": "code",
      "source": [
        "#checking columns with missing values\n",
        "combined_df.isnull().sum().sort_values(ascending=False)\n",
        "\n",
        "\n"
      ],
      "metadata": {
        "colab": {
          "base_uri": "https://localhost:8080/",
          "height": 1000
        },
        "id": "8aZPV_oeBSOl",
        "outputId": "a9e48409-3858-44bb-9924-b550e466841e"
      },
      "execution_count": null,
      "outputs": [
        {
          "output_type": "execute_result",
          "data": {
            "text/plain": [
              "Sub_Unit_Code                  16355\n",
              "TaxonCode                       8548\n",
              "Previously_Obs                  8546\n",
              "Site_Name                       8531\n",
              "NPSTaxonCode                    8531\n",
              "Sex                             5183\n",
              "Distance                        1486\n",
              "AcceptedTSN                       33\n",
              "ID_Method                          2\n",
              "Start_Time                         0\n",
              "Year                               0\n",
              "Date                               0\n",
              "Location_Type                      0\n",
              "Plot_Name                          0\n",
              "Admin_Unit_Code                    0\n",
              "Flyover_Observed                   0\n",
              "Interval_Length                    0\n",
              "Observer                           0\n",
              "Visit                              0\n",
              "End_Time                           0\n",
              "AOU_Code                           0\n",
              "Scientific_Name                    0\n",
              "Common_Name                        0\n",
              "Regional_Stewardship_Status        0\n",
              "PIF_Watchlist_Status               0\n",
              "Temperature                        0\n",
              "Humidity                           0\n",
              "Wind                               0\n",
              "Sky                                0\n",
              "Initial_Three_Min_Cnt              0\n",
              "Disturbance                        0\n",
              "dtype: int64"
            ],
            "text/html": [
              "<div>\n",
              "<style scoped>\n",
              "    .dataframe tbody tr th:only-of-type {\n",
              "        vertical-align: middle;\n",
              "    }\n",
              "\n",
              "    .dataframe tbody tr th {\n",
              "        vertical-align: top;\n",
              "    }\n",
              "\n",
              "    .dataframe thead th {\n",
              "        text-align: right;\n",
              "    }\n",
              "</style>\n",
              "<table border=\"1\" class=\"dataframe\">\n",
              "  <thead>\n",
              "    <tr style=\"text-align: right;\">\n",
              "      <th></th>\n",
              "      <th>0</th>\n",
              "    </tr>\n",
              "  </thead>\n",
              "  <tbody>\n",
              "    <tr>\n",
              "      <th>Sub_Unit_Code</th>\n",
              "      <td>16355</td>\n",
              "    </tr>\n",
              "    <tr>\n",
              "      <th>TaxonCode</th>\n",
              "      <td>8548</td>\n",
              "    </tr>\n",
              "    <tr>\n",
              "      <th>Previously_Obs</th>\n",
              "      <td>8546</td>\n",
              "    </tr>\n",
              "    <tr>\n",
              "      <th>Site_Name</th>\n",
              "      <td>8531</td>\n",
              "    </tr>\n",
              "    <tr>\n",
              "      <th>NPSTaxonCode</th>\n",
              "      <td>8531</td>\n",
              "    </tr>\n",
              "    <tr>\n",
              "      <th>Sex</th>\n",
              "      <td>5183</td>\n",
              "    </tr>\n",
              "    <tr>\n",
              "      <th>Distance</th>\n",
              "      <td>1486</td>\n",
              "    </tr>\n",
              "    <tr>\n",
              "      <th>AcceptedTSN</th>\n",
              "      <td>33</td>\n",
              "    </tr>\n",
              "    <tr>\n",
              "      <th>ID_Method</th>\n",
              "      <td>2</td>\n",
              "    </tr>\n",
              "    <tr>\n",
              "      <th>Start_Time</th>\n",
              "      <td>0</td>\n",
              "    </tr>\n",
              "    <tr>\n",
              "      <th>Year</th>\n",
              "      <td>0</td>\n",
              "    </tr>\n",
              "    <tr>\n",
              "      <th>Date</th>\n",
              "      <td>0</td>\n",
              "    </tr>\n",
              "    <tr>\n",
              "      <th>Location_Type</th>\n",
              "      <td>0</td>\n",
              "    </tr>\n",
              "    <tr>\n",
              "      <th>Plot_Name</th>\n",
              "      <td>0</td>\n",
              "    </tr>\n",
              "    <tr>\n",
              "      <th>Admin_Unit_Code</th>\n",
              "      <td>0</td>\n",
              "    </tr>\n",
              "    <tr>\n",
              "      <th>Flyover_Observed</th>\n",
              "      <td>0</td>\n",
              "    </tr>\n",
              "    <tr>\n",
              "      <th>Interval_Length</th>\n",
              "      <td>0</td>\n",
              "    </tr>\n",
              "    <tr>\n",
              "      <th>Observer</th>\n",
              "      <td>0</td>\n",
              "    </tr>\n",
              "    <tr>\n",
              "      <th>Visit</th>\n",
              "      <td>0</td>\n",
              "    </tr>\n",
              "    <tr>\n",
              "      <th>End_Time</th>\n",
              "      <td>0</td>\n",
              "    </tr>\n",
              "    <tr>\n",
              "      <th>AOU_Code</th>\n",
              "      <td>0</td>\n",
              "    </tr>\n",
              "    <tr>\n",
              "      <th>Scientific_Name</th>\n",
              "      <td>0</td>\n",
              "    </tr>\n",
              "    <tr>\n",
              "      <th>Common_Name</th>\n",
              "      <td>0</td>\n",
              "    </tr>\n",
              "    <tr>\n",
              "      <th>Regional_Stewardship_Status</th>\n",
              "      <td>0</td>\n",
              "    </tr>\n",
              "    <tr>\n",
              "      <th>PIF_Watchlist_Status</th>\n",
              "      <td>0</td>\n",
              "    </tr>\n",
              "    <tr>\n",
              "      <th>Temperature</th>\n",
              "      <td>0</td>\n",
              "    </tr>\n",
              "    <tr>\n",
              "      <th>Humidity</th>\n",
              "      <td>0</td>\n",
              "    </tr>\n",
              "    <tr>\n",
              "      <th>Wind</th>\n",
              "      <td>0</td>\n",
              "    </tr>\n",
              "    <tr>\n",
              "      <th>Sky</th>\n",
              "      <td>0</td>\n",
              "    </tr>\n",
              "    <tr>\n",
              "      <th>Initial_Three_Min_Cnt</th>\n",
              "      <td>0</td>\n",
              "    </tr>\n",
              "    <tr>\n",
              "      <th>Disturbance</th>\n",
              "      <td>0</td>\n",
              "    </tr>\n",
              "  </tbody>\n",
              "</table>\n",
              "</div><br><label><b>dtype:</b> int64</label>"
            ]
          },
          "metadata": {},
          "execution_count": 8
        }
      ]
    },
    {
      "cell_type": "code",
      "source": [
        "# Drop columns with too many missing values\n",
        "columns_to_drop = ['Sub_Unit_Code', 'TaxonCode', 'Previously_Obs', 'Site_Name', 'NPSTaxonCode']\n",
        "existing_columns_to_drop = [col for col in columns_to_drop if col in combined_df.columns]\n",
        "combined_df = combined_df.drop(columns=existing_columns_to_drop)\n",
        "\n",
        "# Fill missing values in key columns\n",
        "combined_df['Sex'] = combined_df['Sex'].fillna('Undetermined')\n",
        "combined_df['Distance'] = combined_df['Distance'].fillna('Unknown')\n",
        "combined_df['AcceptedTSN'] = combined_df['AcceptedTSN'].fillna(-1)\n",
        "combined_df['ID_Method'] = combined_df['ID_Method'].fillna('Unknown')\n",
        "\n"
      ],
      "metadata": {
        "id": "ukVfYBRFCGdj"
      },
      "execution_count": null,
      "outputs": []
    },
    {
      "cell_type": "code",
      "source": [
        "# Converting date and time columns\n",
        "\n",
        "combined_df['Date'] = pd.to_datetime(combined_df['Date'], errors='coerce')\n",
        "combined_df['Start_Time'] = pd.to_datetime(combined_df['Start_Time'], format='%H:%M:%S', errors='coerce').dt.time\n",
        "combined_df['End_Time'] = pd.to_datetime(combined_df['End_Time'], format='%H:%M:%S', errors='coerce').dt.time\n"
      ],
      "metadata": {
        "id": "3R5szGHlCknB"
      },
      "execution_count": null,
      "outputs": []
    },
    {
      "cell_type": "code",
      "source": [
        "#Removing dupilicates if any\n",
        "\n",
        "combined_df = combined_df.drop_duplicates()\n"
      ],
      "metadata": {
        "id": "ubShpu8fDl-U"
      },
      "execution_count": null,
      "outputs": []
    },
    {
      "cell_type": "code",
      "source": [
        "# Creating new columns- seasons\n",
        "\n",
        "def get_season(month):\n",
        "    if month in [3, 4, 5]:\n",
        "        return 'Spring'\n",
        "    elif month in [6, 7, 8]:\n",
        "        return 'Summer'\n",
        "    elif month in [9, 10, 11]:\n",
        "        return 'Fall'\n",
        "    else:\n",
        "        return 'Winter'\n",
        "\n",
        "combined_df['Season'] = combined_df['Date'].dt.month.apply(get_season)\n",
        "\n",
        "\n",
        "#viewing the created column\n",
        "print(combined_df['Season'].value_counts())\n",
        "\n"
      ],
      "metadata": {
        "colab": {
          "base_uri": "https://localhost:8080/"
        },
        "id": "onXkiTsOD49w",
        "outputId": "5041c38a-7a69-4fbf-a1c2-645aa0f1bcfe"
      },
      "execution_count": null,
      "outputs": [
        {
          "output_type": "stream",
          "name": "stdout",
          "text": [
            "Season\n",
            "Summer    10505\n",
            "Spring     4863\n",
            "Name: count, dtype: int64\n"
          ]
        }
      ]
    },
    {
      "cell_type": "code",
      "source": [
        "# Creating New column - Observation minutes\n",
        "\n",
        "#combine with date to form full datetime\n",
        "combined_df['StartDateTime'] = pd.to_datetime(combined_df['Date'].astype(str) + ' ' + combined_df['Start_Time'].astype(str))\n",
        "combined_df['EndDateTime'] = pd.to_datetime(combined_df['Date'].astype(str) + ' ' + combined_df['End_Time'].astype(str))\n",
        "\n",
        "# making the calculation\n",
        "combined_df['Observation_Duration'] = combined_df['EndDateTime'] - combined_df['StartDateTime']\n",
        "combined_df['Observation_Duration_Min'] = combined_df['Observation_Duration'].dt.total_seconds() / 60\n",
        "\n",
        "#to view the created column\n",
        "print(combined_df[['Start_Time', 'End_Time', 'StartDateTime', 'EndDateTime', 'Observation_Duration_Min']].head())\n",
        "\n"
      ],
      "metadata": {
        "colab": {
          "base_uri": "https://localhost:8080/"
        },
        "id": "v63ghtWEGTDg",
        "outputId": "2f73892f-978c-4107-d573-ad0f53994032"
      },
      "execution_count": null,
      "outputs": [
        {
          "output_type": "stream",
          "name": "stdout",
          "text": [
            "  Start_Time  End_Time       StartDateTime         EndDateTime  \\\n",
            "0   06:19:00  06:29:00 2018-05-22 06:19:00 2018-05-22 06:29:00   \n",
            "1   06:19:00  06:29:00 2018-05-22 06:19:00 2018-05-22 06:29:00   \n",
            "2   06:19:00  06:29:00 2018-05-22 06:19:00 2018-05-22 06:29:00   \n",
            "3   06:19:00  06:29:00 2018-05-22 06:19:00 2018-05-22 06:29:00   \n",
            "4   06:19:00  06:29:00 2018-05-22 06:19:00 2018-05-22 06:29:00   \n",
            "\n",
            "   Observation_Duration_Min  \n",
            "0                      10.0  \n",
            "1                      10.0  \n",
            "2                      10.0  \n",
            "3                      10.0  \n",
            "4                      10.0  \n"
          ]
        }
      ]
    },
    {
      "cell_type": "code",
      "source": [
        "# Saving the cleaned data\n",
        "\n",
        "combined_df.to_csv(\"cleaned_bird_data.csv\", index=False)\n",
        "print(\"Total rows in cleaned data:\", len(combined_df))\n",
        "display(combined_df.head())\n"
      ],
      "metadata": {
        "id": "6qii2EJ8HgWM",
        "colab": {
          "base_uri": "https://localhost:8080/",
          "height": 620
        },
        "outputId": "6cba335f-18ba-4533-a8c8-c3b7d483b1d9"
      },
      "execution_count": null,
      "outputs": [
        {
          "output_type": "stream",
          "name": "stdout",
          "text": [
            "Total rows in cleaned data: 15368\n"
          ]
        },
        {
          "output_type": "display_data",
          "data": {
            "text/plain": [
              "  Admin_Unit_Code  Plot_Name Location_Type  Year       Date Start_Time  \\\n",
              "0            ANTI  ANTI-0036        Forest  2018 2018-05-22   06:19:00   \n",
              "1            ANTI  ANTI-0036        Forest  2018 2018-05-22   06:19:00   \n",
              "2            ANTI  ANTI-0036        Forest  2018 2018-05-22   06:19:00   \n",
              "3            ANTI  ANTI-0036        Forest  2018 2018-05-22   06:19:00   \n",
              "4            ANTI  ANTI-0036        Forest  2018 2018-05-22   06:19:00   \n",
              "\n",
              "   End_Time          Observer  Visit Interval_Length  ...   Humidity  \\\n",
              "0  06:29:00  Elizabeth Oswald      1       0-2.5 min  ...  79.400002   \n",
              "1  06:29:00  Elizabeth Oswald      1       0-2.5 min  ...  79.400002   \n",
              "2  06:29:00  Elizabeth Oswald      1     2.5 - 5 min  ...  79.400002   \n",
              "3  06:29:00  Elizabeth Oswald      1     2.5 - 5 min  ...  79.400002   \n",
              "4  06:29:00  Elizabeth Oswald      1     2.5 - 5 min  ...  79.400002   \n",
              "\n",
              "               Sky                                   Wind         Disturbance  \\\n",
              "0  Cloudy/Overcast  Calm (< 1 mph) smoke rises vertically  No effect on count   \n",
              "1  Cloudy/Overcast  Calm (< 1 mph) smoke rises vertically  No effect on count   \n",
              "2  Cloudy/Overcast  Calm (< 1 mph) smoke rises vertically  No effect on count   \n",
              "3  Cloudy/Overcast  Calm (< 1 mph) smoke rises vertically  No effect on count   \n",
              "4  Cloudy/Overcast  Calm (< 1 mph) smoke rises vertically  No effect on count   \n",
              "\n",
              "  Initial_Three_Min_Cnt  Season       StartDateTime         EndDateTime  \\\n",
              "0                  True  Spring 2018-05-22 06:19:00 2018-05-22 06:29:00   \n",
              "1                  True  Spring 2018-05-22 06:19:00 2018-05-22 06:29:00   \n",
              "2                 False  Spring 2018-05-22 06:19:00 2018-05-22 06:29:00   \n",
              "3                 False  Spring 2018-05-22 06:19:00 2018-05-22 06:29:00   \n",
              "4                 False  Spring 2018-05-22 06:19:00 2018-05-22 06:29:00   \n",
              "\n",
              "   Observation_Duration  Observation_Duration_Min  \n",
              "0       0 days 00:10:00                      10.0  \n",
              "1       0 days 00:10:00                      10.0  \n",
              "2       0 days 00:10:00                      10.0  \n",
              "3       0 days 00:10:00                      10.0  \n",
              "4       0 days 00:10:00                      10.0  \n",
              "\n",
              "[5 rows x 31 columns]"
            ],
            "text/html": [
              "\n",
              "  <div id=\"df-e7f804b8-ed3e-4dba-8fea-623ffcd542f2\" class=\"colab-df-container\">\n",
              "    <div>\n",
              "<style scoped>\n",
              "    .dataframe tbody tr th:only-of-type {\n",
              "        vertical-align: middle;\n",
              "    }\n",
              "\n",
              "    .dataframe tbody tr th {\n",
              "        vertical-align: top;\n",
              "    }\n",
              "\n",
              "    .dataframe thead th {\n",
              "        text-align: right;\n",
              "    }\n",
              "</style>\n",
              "<table border=\"1\" class=\"dataframe\">\n",
              "  <thead>\n",
              "    <tr style=\"text-align: right;\">\n",
              "      <th></th>\n",
              "      <th>Admin_Unit_Code</th>\n",
              "      <th>Plot_Name</th>\n",
              "      <th>Location_Type</th>\n",
              "      <th>Year</th>\n",
              "      <th>Date</th>\n",
              "      <th>Start_Time</th>\n",
              "      <th>End_Time</th>\n",
              "      <th>Observer</th>\n",
              "      <th>Visit</th>\n",
              "      <th>Interval_Length</th>\n",
              "      <th>...</th>\n",
              "      <th>Humidity</th>\n",
              "      <th>Sky</th>\n",
              "      <th>Wind</th>\n",
              "      <th>Disturbance</th>\n",
              "      <th>Initial_Three_Min_Cnt</th>\n",
              "      <th>Season</th>\n",
              "      <th>StartDateTime</th>\n",
              "      <th>EndDateTime</th>\n",
              "      <th>Observation_Duration</th>\n",
              "      <th>Observation_Duration_Min</th>\n",
              "    </tr>\n",
              "  </thead>\n",
              "  <tbody>\n",
              "    <tr>\n",
              "      <th>0</th>\n",
              "      <td>ANTI</td>\n",
              "      <td>ANTI-0036</td>\n",
              "      <td>Forest</td>\n",
              "      <td>2018</td>\n",
              "      <td>2018-05-22</td>\n",
              "      <td>06:19:00</td>\n",
              "      <td>06:29:00</td>\n",
              "      <td>Elizabeth Oswald</td>\n",
              "      <td>1</td>\n",
              "      <td>0-2.5 min</td>\n",
              "      <td>...</td>\n",
              "      <td>79.400002</td>\n",
              "      <td>Cloudy/Overcast</td>\n",
              "      <td>Calm (&lt; 1 mph) smoke rises vertically</td>\n",
              "      <td>No effect on count</td>\n",
              "      <td>True</td>\n",
              "      <td>Spring</td>\n",
              "      <td>2018-05-22 06:19:00</td>\n",
              "      <td>2018-05-22 06:29:00</td>\n",
              "      <td>0 days 00:10:00</td>\n",
              "      <td>10.0</td>\n",
              "    </tr>\n",
              "    <tr>\n",
              "      <th>1</th>\n",
              "      <td>ANTI</td>\n",
              "      <td>ANTI-0036</td>\n",
              "      <td>Forest</td>\n",
              "      <td>2018</td>\n",
              "      <td>2018-05-22</td>\n",
              "      <td>06:19:00</td>\n",
              "      <td>06:29:00</td>\n",
              "      <td>Elizabeth Oswald</td>\n",
              "      <td>1</td>\n",
              "      <td>0-2.5 min</td>\n",
              "      <td>...</td>\n",
              "      <td>79.400002</td>\n",
              "      <td>Cloudy/Overcast</td>\n",
              "      <td>Calm (&lt; 1 mph) smoke rises vertically</td>\n",
              "      <td>No effect on count</td>\n",
              "      <td>True</td>\n",
              "      <td>Spring</td>\n",
              "      <td>2018-05-22 06:19:00</td>\n",
              "      <td>2018-05-22 06:29:00</td>\n",
              "      <td>0 days 00:10:00</td>\n",
              "      <td>10.0</td>\n",
              "    </tr>\n",
              "    <tr>\n",
              "      <th>2</th>\n",
              "      <td>ANTI</td>\n",
              "      <td>ANTI-0036</td>\n",
              "      <td>Forest</td>\n",
              "      <td>2018</td>\n",
              "      <td>2018-05-22</td>\n",
              "      <td>06:19:00</td>\n",
              "      <td>06:29:00</td>\n",
              "      <td>Elizabeth Oswald</td>\n",
              "      <td>1</td>\n",
              "      <td>2.5 - 5 min</td>\n",
              "      <td>...</td>\n",
              "      <td>79.400002</td>\n",
              "      <td>Cloudy/Overcast</td>\n",
              "      <td>Calm (&lt; 1 mph) smoke rises vertically</td>\n",
              "      <td>No effect on count</td>\n",
              "      <td>False</td>\n",
              "      <td>Spring</td>\n",
              "      <td>2018-05-22 06:19:00</td>\n",
              "      <td>2018-05-22 06:29:00</td>\n",
              "      <td>0 days 00:10:00</td>\n",
              "      <td>10.0</td>\n",
              "    </tr>\n",
              "    <tr>\n",
              "      <th>3</th>\n",
              "      <td>ANTI</td>\n",
              "      <td>ANTI-0036</td>\n",
              "      <td>Forest</td>\n",
              "      <td>2018</td>\n",
              "      <td>2018-05-22</td>\n",
              "      <td>06:19:00</td>\n",
              "      <td>06:29:00</td>\n",
              "      <td>Elizabeth Oswald</td>\n",
              "      <td>1</td>\n",
              "      <td>2.5 - 5 min</td>\n",
              "      <td>...</td>\n",
              "      <td>79.400002</td>\n",
              "      <td>Cloudy/Overcast</td>\n",
              "      <td>Calm (&lt; 1 mph) smoke rises vertically</td>\n",
              "      <td>No effect on count</td>\n",
              "      <td>False</td>\n",
              "      <td>Spring</td>\n",
              "      <td>2018-05-22 06:19:00</td>\n",
              "      <td>2018-05-22 06:29:00</td>\n",
              "      <td>0 days 00:10:00</td>\n",
              "      <td>10.0</td>\n",
              "    </tr>\n",
              "    <tr>\n",
              "      <th>4</th>\n",
              "      <td>ANTI</td>\n",
              "      <td>ANTI-0036</td>\n",
              "      <td>Forest</td>\n",
              "      <td>2018</td>\n",
              "      <td>2018-05-22</td>\n",
              "      <td>06:19:00</td>\n",
              "      <td>06:29:00</td>\n",
              "      <td>Elizabeth Oswald</td>\n",
              "      <td>1</td>\n",
              "      <td>2.5 - 5 min</td>\n",
              "      <td>...</td>\n",
              "      <td>79.400002</td>\n",
              "      <td>Cloudy/Overcast</td>\n",
              "      <td>Calm (&lt; 1 mph) smoke rises vertically</td>\n",
              "      <td>No effect on count</td>\n",
              "      <td>False</td>\n",
              "      <td>Spring</td>\n",
              "      <td>2018-05-22 06:19:00</td>\n",
              "      <td>2018-05-22 06:29:00</td>\n",
              "      <td>0 days 00:10:00</td>\n",
              "      <td>10.0</td>\n",
              "    </tr>\n",
              "  </tbody>\n",
              "</table>\n",
              "<p>5 rows × 31 columns</p>\n",
              "</div>\n",
              "    <div class=\"colab-df-buttons\">\n",
              "\n",
              "  <div class=\"colab-df-container\">\n",
              "    <button class=\"colab-df-convert\" onclick=\"convertToInteractive('df-e7f804b8-ed3e-4dba-8fea-623ffcd542f2')\"\n",
              "            title=\"Convert this dataframe to an interactive table.\"\n",
              "            style=\"display:none;\">\n",
              "\n",
              "  <svg xmlns=\"http://www.w3.org/2000/svg\" height=\"24px\" viewBox=\"0 -960 960 960\">\n",
              "    <path d=\"M120-120v-720h720v720H120Zm60-500h600v-160H180v160Zm220 220h160v-160H400v160Zm0 220h160v-160H400v160ZM180-400h160v-160H180v160Zm440 0h160v-160H620v160ZM180-180h160v-160H180v160Zm440 0h160v-160H620v160Z\"/>\n",
              "  </svg>\n",
              "    </button>\n",
              "\n",
              "  <style>\n",
              "    .colab-df-container {\n",
              "      display:flex;\n",
              "      gap: 12px;\n",
              "    }\n",
              "\n",
              "    .colab-df-convert {\n",
              "      background-color: #E8F0FE;\n",
              "      border: none;\n",
              "      border-radius: 50%;\n",
              "      cursor: pointer;\n",
              "      display: none;\n",
              "      fill: #1967D2;\n",
              "      height: 32px;\n",
              "      padding: 0 0 0 0;\n",
              "      width: 32px;\n",
              "    }\n",
              "\n",
              "    .colab-df-convert:hover {\n",
              "      background-color: #E2EBFA;\n",
              "      box-shadow: 0px 1px 2px rgba(60, 64, 67, 0.3), 0px 1px 3px 1px rgba(60, 64, 67, 0.15);\n",
              "      fill: #174EA6;\n",
              "    }\n",
              "\n",
              "    .colab-df-buttons div {\n",
              "      margin-bottom: 4px;\n",
              "    }\n",
              "\n",
              "    [theme=dark] .colab-df-convert {\n",
              "      background-color: #3B4455;\n",
              "      fill: #D2E3FC;\n",
              "    }\n",
              "\n",
              "    [theme=dark] .colab-df-convert:hover {\n",
              "      background-color: #434B5C;\n",
              "      box-shadow: 0px 1px 3px 1px rgba(0, 0, 0, 0.15);\n",
              "      filter: drop-shadow(0px 1px 2px rgba(0, 0, 0, 0.3));\n",
              "      fill: #FFFFFF;\n",
              "    }\n",
              "  </style>\n",
              "\n",
              "    <script>\n",
              "      const buttonEl =\n",
              "        document.querySelector('#df-e7f804b8-ed3e-4dba-8fea-623ffcd542f2 button.colab-df-convert');\n",
              "      buttonEl.style.display =\n",
              "        google.colab.kernel.accessAllowed ? 'block' : 'none';\n",
              "\n",
              "      async function convertToInteractive(key) {\n",
              "        const element = document.querySelector('#df-e7f804b8-ed3e-4dba-8fea-623ffcd542f2');\n",
              "        const dataTable =\n",
              "          await google.colab.kernel.invokeFunction('convertToInteractive',\n",
              "                                                    [key], {});\n",
              "        if (!dataTable) return;\n",
              "\n",
              "        const docLinkHtml = 'Like what you see? Visit the ' +\n",
              "          '<a target=\"_blank\" href=https://colab.research.google.com/notebooks/data_table.ipynb>data table notebook</a>'\n",
              "          + ' to learn more about interactive tables.';\n",
              "        element.innerHTML = '';\n",
              "        dataTable['output_type'] = 'display_data';\n",
              "        await google.colab.output.renderOutput(dataTable, element);\n",
              "        const docLink = document.createElement('div');\n",
              "        docLink.innerHTML = docLinkHtml;\n",
              "        element.appendChild(docLink);\n",
              "      }\n",
              "    </script>\n",
              "  </div>\n",
              "\n",
              "\n",
              "    <div id=\"df-3ca57aed-80c0-4970-ad51-929e40a4aa0f\">\n",
              "      <button class=\"colab-df-quickchart\" onclick=\"quickchart('df-3ca57aed-80c0-4970-ad51-929e40a4aa0f')\"\n",
              "                title=\"Suggest charts\"\n",
              "                style=\"display:none;\">\n",
              "\n",
              "<svg xmlns=\"http://www.w3.org/2000/svg\" height=\"24px\"viewBox=\"0 0 24 24\"\n",
              "     width=\"24px\">\n",
              "    <g>\n",
              "        <path d=\"M19 3H5c-1.1 0-2 .9-2 2v14c0 1.1.9 2 2 2h14c1.1 0 2-.9 2-2V5c0-1.1-.9-2-2-2zM9 17H7v-7h2v7zm4 0h-2V7h2v10zm4 0h-2v-4h2v4z\"/>\n",
              "    </g>\n",
              "</svg>\n",
              "      </button>\n",
              "\n",
              "<style>\n",
              "  .colab-df-quickchart {\n",
              "      --bg-color: #E8F0FE;\n",
              "      --fill-color: #1967D2;\n",
              "      --hover-bg-color: #E2EBFA;\n",
              "      --hover-fill-color: #174EA6;\n",
              "      --disabled-fill-color: #AAA;\n",
              "      --disabled-bg-color: #DDD;\n",
              "  }\n",
              "\n",
              "  [theme=dark] .colab-df-quickchart {\n",
              "      --bg-color: #3B4455;\n",
              "      --fill-color: #D2E3FC;\n",
              "      --hover-bg-color: #434B5C;\n",
              "      --hover-fill-color: #FFFFFF;\n",
              "      --disabled-bg-color: #3B4455;\n",
              "      --disabled-fill-color: #666;\n",
              "  }\n",
              "\n",
              "  .colab-df-quickchart {\n",
              "    background-color: var(--bg-color);\n",
              "    border: none;\n",
              "    border-radius: 50%;\n",
              "    cursor: pointer;\n",
              "    display: none;\n",
              "    fill: var(--fill-color);\n",
              "    height: 32px;\n",
              "    padding: 0;\n",
              "    width: 32px;\n",
              "  }\n",
              "\n",
              "  .colab-df-quickchart:hover {\n",
              "    background-color: var(--hover-bg-color);\n",
              "    box-shadow: 0 1px 2px rgba(60, 64, 67, 0.3), 0 1px 3px 1px rgba(60, 64, 67, 0.15);\n",
              "    fill: var(--button-hover-fill-color);\n",
              "  }\n",
              "\n",
              "  .colab-df-quickchart-complete:disabled,\n",
              "  .colab-df-quickchart-complete:disabled:hover {\n",
              "    background-color: var(--disabled-bg-color);\n",
              "    fill: var(--disabled-fill-color);\n",
              "    box-shadow: none;\n",
              "  }\n",
              "\n",
              "  .colab-df-spinner {\n",
              "    border: 2px solid var(--fill-color);\n",
              "    border-color: transparent;\n",
              "    border-bottom-color: var(--fill-color);\n",
              "    animation:\n",
              "      spin 1s steps(1) infinite;\n",
              "  }\n",
              "\n",
              "  @keyframes spin {\n",
              "    0% {\n",
              "      border-color: transparent;\n",
              "      border-bottom-color: var(--fill-color);\n",
              "      border-left-color: var(--fill-color);\n",
              "    }\n",
              "    20% {\n",
              "      border-color: transparent;\n",
              "      border-left-color: var(--fill-color);\n",
              "      border-top-color: var(--fill-color);\n",
              "    }\n",
              "    30% {\n",
              "      border-color: transparent;\n",
              "      border-left-color: var(--fill-color);\n",
              "      border-top-color: var(--fill-color);\n",
              "      border-right-color: var(--fill-color);\n",
              "    }\n",
              "    40% {\n",
              "      border-color: transparent;\n",
              "      border-right-color: var(--fill-color);\n",
              "      border-top-color: var(--fill-color);\n",
              "    }\n",
              "    60% {\n",
              "      border-color: transparent;\n",
              "      border-right-color: var(--fill-color);\n",
              "    }\n",
              "    80% {\n",
              "      border-color: transparent;\n",
              "      border-right-color: var(--fill-color);\n",
              "      border-bottom-color: var(--fill-color);\n",
              "    }\n",
              "    90% {\n",
              "      border-color: transparent;\n",
              "      border-bottom-color: var(--fill-color);\n",
              "    }\n",
              "  }\n",
              "</style>\n",
              "\n",
              "      <script>\n",
              "        async function quickchart(key) {\n",
              "          const quickchartButtonEl =\n",
              "            document.querySelector('#' + key + ' button');\n",
              "          quickchartButtonEl.disabled = true;  // To prevent multiple clicks.\n",
              "          quickchartButtonEl.classList.add('colab-df-spinner');\n",
              "          try {\n",
              "            const charts = await google.colab.kernel.invokeFunction(\n",
              "                'suggestCharts', [key], {});\n",
              "          } catch (error) {\n",
              "            console.error('Error during call to suggestCharts:', error);\n",
              "          }\n",
              "          quickchartButtonEl.classList.remove('colab-df-spinner');\n",
              "          quickchartButtonEl.classList.add('colab-df-quickchart-complete');\n",
              "        }\n",
              "        (() => {\n",
              "          let quickchartButtonEl =\n",
              "            document.querySelector('#df-3ca57aed-80c0-4970-ad51-929e40a4aa0f button');\n",
              "          quickchartButtonEl.style.display =\n",
              "            google.colab.kernel.accessAllowed ? 'block' : 'none';\n",
              "        })();\n",
              "      </script>\n",
              "    </div>\n",
              "\n",
              "    </div>\n",
              "  </div>\n"
            ],
            "application/vnd.google.colaboratory.intrinsic+json": {
              "type": "dataframe"
            }
          },
          "metadata": {}
        }
      ]
    },
    {
      "cell_type": "markdown",
      "source": [
        "# **3. Exploratory Data Analysis**"
      ],
      "metadata": {
        "id": "1G_Qixwpdg5v"
      }
    },
    {
      "cell_type": "markdown",
      "source": [
        "## **1. Temporal Analysis**"
      ],
      "metadata": {
        "id": "XR2E4cjSePlR"
      }
    },
    {
      "cell_type": "markdown",
      "source": [
        "**1.1: Observation by year,month,season**"
      ],
      "metadata": {
        "id": "mVMi_VGLuEN8"
      }
    },
    {
      "cell_type": "code",
      "source": [
        "\n",
        "# Extract year, month, season\n",
        "combined_df['Year'] = combined_df['Date'].dt.year\n",
        "combined_df['Month'] = combined_df['Date'].dt.month\n",
        "\n",
        "def get_season(month):\n",
        "    if month in [3, 4, 5]:\n",
        "        return 'Spring'\n",
        "    elif month in [6, 7, 8]:\n",
        "        return 'Summer'\n",
        "    elif month in [9, 10, 11]:\n",
        "        return 'Fall'\n",
        "    else:\n",
        "        return 'Winter'\n",
        "\n",
        "combined_df['Season'] = combined_df['Month'].apply(get_season)\n",
        "\n",
        "# Observation frequency\n",
        "print(combined_df['Year'].value_counts().sort_index()) # Check the number of observations per year to understand the temporal range\n",
        "print(combined_df['Month'].value_counts().sort_index()) # Check observation frequency per month to identify survey intensity or seasonal patterns\n",
        "print(combined_df['Season'].value_counts()) # Map months to seasons and count how many observations fall in each season\n"
      ],
      "metadata": {
        "colab": {
          "base_uri": "https://localhost:8080/"
        },
        "id": "xziEdM2ceWJe",
        "outputId": "237a0808-a2a3-4eba-a5c2-f6ab3aa058cf"
      },
      "execution_count": null,
      "outputs": [
        {
          "output_type": "stream",
          "name": "stdout",
          "text": [
            "Year\n",
            "2018    15368\n",
            "Name: count, dtype: int64\n",
            "Month\n",
            "5    4863\n",
            "6    6209\n",
            "7    4296\n",
            "Name: count, dtype: int64\n",
            "Season\n",
            "Summer    10505\n",
            "Spring     4863\n",
            "Name: count, dtype: int64\n"
          ]
        }
      ]
    },
    {
      "cell_type": "markdown",
      "source": [
        "**1.2: Observation Time**"
      ],
      "metadata": {
        "id": "-zYldqWUuSA0"
      }
    },
    {
      "cell_type": "code",
      "source": [
        "\n",
        "# Count number of observations per hour (based on Start_Time) to analyze bird activity by time of day\n",
        "combined_df['Hour'] = pd.to_datetime(combined_df['Start_Time'].astype(str), errors='coerce').dt.hour\n",
        "combined_df['Hour'].value_counts().sort_index()\n",
        "\n"
      ],
      "metadata": {
        "colab": {
          "base_uri": "https://localhost:8080/",
          "height": 358
        },
        "id": "bV7LvoCDlvzm",
        "outputId": "235d543f-3bc1-4fb5-f6db-ae30034836f3"
      },
      "execution_count": null,
      "outputs": [
        {
          "output_type": "stream",
          "name": "stderr",
          "text": [
            "/tmp/ipython-input-1708291786.py:2: UserWarning: Could not infer format, so each element will be parsed individually, falling back to `dateutil`. To ensure parsing is consistent and as-expected, please specify a format.\n",
            "  combined_df['Hour'] = pd.to_datetime(combined_df['Start_Time'].astype(str), errors='coerce').dt.hour\n"
          ]
        },
        {
          "output_type": "execute_result",
          "data": {
            "text/plain": [
              "Hour\n",
              "5     1288\n",
              "6     3837\n",
              "7     4014\n",
              "8     3194\n",
              "9     2014\n",
              "10    1021\n",
              "Name: count, dtype: int64"
            ],
            "text/html": [
              "<div>\n",
              "<style scoped>\n",
              "    .dataframe tbody tr th:only-of-type {\n",
              "        vertical-align: middle;\n",
              "    }\n",
              "\n",
              "    .dataframe tbody tr th {\n",
              "        vertical-align: top;\n",
              "    }\n",
              "\n",
              "    .dataframe thead th {\n",
              "        text-align: right;\n",
              "    }\n",
              "</style>\n",
              "<table border=\"1\" class=\"dataframe\">\n",
              "  <thead>\n",
              "    <tr style=\"text-align: right;\">\n",
              "      <th></th>\n",
              "      <th>count</th>\n",
              "    </tr>\n",
              "    <tr>\n",
              "      <th>Hour</th>\n",
              "      <th></th>\n",
              "    </tr>\n",
              "  </thead>\n",
              "  <tbody>\n",
              "    <tr>\n",
              "      <th>5</th>\n",
              "      <td>1288</td>\n",
              "    </tr>\n",
              "    <tr>\n",
              "      <th>6</th>\n",
              "      <td>3837</td>\n",
              "    </tr>\n",
              "    <tr>\n",
              "      <th>7</th>\n",
              "      <td>4014</td>\n",
              "    </tr>\n",
              "    <tr>\n",
              "      <th>8</th>\n",
              "      <td>3194</td>\n",
              "    </tr>\n",
              "    <tr>\n",
              "      <th>9</th>\n",
              "      <td>2014</td>\n",
              "    </tr>\n",
              "    <tr>\n",
              "      <th>10</th>\n",
              "      <td>1021</td>\n",
              "    </tr>\n",
              "  </tbody>\n",
              "</table>\n",
              "</div><br><label><b>dtype:</b> int64</label>"
            ]
          },
          "metadata": {},
          "execution_count": 18
        }
      ]
    },
    {
      "cell_type": "markdown",
      "source": [
        "# **2. Spatial Analysis**"
      ],
      "metadata": {
        "id": "Uqp4gGOCfuV7"
      }
    },
    {
      "cell_type": "markdown",
      "source": [
        "**2.1: Species Diversity by Habitat Type**"
      ],
      "metadata": {
        "id": "sKMz_0jptrjl"
      }
    },
    {
      "cell_type": "code",
      "source": [
        "# Count the number of unique species observed in each habitat type (e.g., Forest vs Grassland)\n",
        "species_by_habitat = combined_df.groupby('Location_Type')['Scientific_Name'].nunique()\n",
        "print(species_by_habitat)\n",
        "\n",
        "\n"
      ],
      "metadata": {
        "colab": {
          "base_uri": "https://localhost:8080/"
        },
        "id": "aCAZ8PHrfy-m",
        "outputId": "256fdff6-c107-401f-aeee-8846766a9af4"
      },
      "execution_count": null,
      "outputs": [
        {
          "output_type": "stream",
          "name": "stdout",
          "text": [
            "Location_Type\n",
            "Forest       108\n",
            "Grassland    107\n",
            "Name: Scientific_Name, dtype: int64\n"
          ]
        }
      ]
    },
    {
      "cell_type": "markdown",
      "source": [
        "**2.2: Species Diversity by Administrative Unit (Park)**"
      ],
      "metadata": {
        "id": "15zbuJBQt0ss"
      }
    },
    {
      "cell_type": "code",
      "source": [
        "# Count the number of unique species in each administrative unit (e.g., ANTI, MONO, etc.)\n",
        "species_by_unit = combined_df.groupby('Admin_Unit_Code')['Scientific_Name'].nunique().sort_values(ascending=False)\n",
        "print(species_by_unit.head(10))  # Top 10 units\n",
        "\n",
        "\n",
        "\n",
        "\n"
      ],
      "metadata": {
        "colab": {
          "base_uri": "https://localhost:8080/"
        },
        "id": "ZaPWDpbHhenn",
        "outputId": "0210b19a-db8d-40ea-cd16-286569380dd7"
      },
      "execution_count": null,
      "outputs": [
        {
          "output_type": "stream",
          "name": "stdout",
          "text": [
            "Admin_Unit_Code\n",
            "MONO    100\n",
            "MANA     81\n",
            "ANTI     81\n",
            "CHOH     80\n",
            "NACE     66\n",
            "HAFE     55\n",
            "PRWI     54\n",
            "GWMP     49\n",
            "CATO     46\n",
            "ROCR     45\n",
            "Name: Scientific_Name, dtype: int64\n"
          ]
        }
      ]
    },
    {
      "cell_type": "markdown",
      "source": [
        "**2.3: Species Diversity by Plot**"
      ],
      "metadata": {
        "id": "SMl-uo5qt6Cq"
      }
    },
    {
      "cell_type": "code",
      "source": [
        "# Count the number of unique species observed in each survey plot\n",
        "species_by_plot = combined_df.groupby('Plot_Name')['Scientific_Name'].nunique().sort_values(ascending=False)\n",
        "print(species_by_plot.head(10))  # Top 10 plots\n"
      ],
      "metadata": {
        "colab": {
          "base_uri": "https://localhost:8080/"
        },
        "id": "oU9WRhyjnHUm",
        "outputId": "f99d3913-f331-47fb-9fce-e884193528c0"
      },
      "execution_count": null,
      "outputs": [
        {
          "output_type": "stream",
          "name": "stdout",
          "text": [
            "Plot_Name\n",
            "ANTI-0105    27\n",
            "MANA-0047    27\n",
            "MONO-0057    27\n",
            "MONO-0066    26\n",
            "CHOH-0812    26\n",
            "MONO-0076    26\n",
            "MONO-0085    26\n",
            "MANA-0048    26\n",
            "ANTI-0160    25\n",
            "ANTI-0034    25\n",
            "Name: Scientific_Name, dtype: int64\n"
          ]
        }
      ]
    },
    {
      "cell_type": "markdown",
      "source": [
        "# **3. Species Analysis**"
      ],
      "metadata": {
        "id": "TfBiTVYtngK9"
      }
    },
    {
      "cell_type": "markdown",
      "source": [
        "**3.1: Total bird species Diversity**"
      ],
      "metadata": {
        "id": "30imXPe9sBg0"
      }
    },
    {
      "cell_type": "code",
      "source": [
        "# Count the total number of unique bird species observed across all locations\n",
        "total_unique_species = combined_df['Scientific_Name'].nunique()\n",
        "print(\"Total Unique Species:\", total_unique_species)\n"
      ],
      "metadata": {
        "colab": {
          "base_uri": "https://localhost:8080/"
        },
        "id": "elDVAz_unkXR",
        "outputId": "deafe9af-fe1e-4d00-9897-e2fb73a79819"
      },
      "execution_count": null,
      "outputs": [
        {
          "output_type": "stream",
          "name": "stdout",
          "text": [
            "Total Unique Species: 127\n"
          ]
        }
      ]
    },
    {
      "cell_type": "markdown",
      "source": [
        "**3.2: Most Commonly Observed Species**"
      ],
      "metadata": {
        "id": "2klt8NIqsUOS"
      }
    },
    {
      "cell_type": "code",
      "source": [
        "# List the top 10 most frequently observed bird species (by common name)\n",
        "top_species = combined_df['Common_Name'].value_counts().head(10)\n",
        "print(\"Top 10 Most Observed Species:\\n\", top_species)\n"
      ],
      "metadata": {
        "colab": {
          "base_uri": "https://localhost:8080/"
        },
        "id": "TbtS3405sZn4",
        "outputId": "93f8d892-5d0e-4e11-ecdd-909f8c76589d"
      },
      "execution_count": null,
      "outputs": [
        {
          "output_type": "stream",
          "name": "stdout",
          "text": [
            "Top 10 Most Observed Species:\n",
            " Common_Name\n",
            "Northern Cardinal          1125\n",
            "Carolina Wren               993\n",
            "Red-eyed Vireo              737\n",
            "Eastern Tufted Titmouse     720\n",
            "Indigo Bunting              611\n",
            "Eastern Wood-Pewee          574\n",
            "Field Sparrow               492\n",
            "Red-bellied Woodpecker      488\n",
            "American Robin              470\n",
            "Acadian Flycatcher          462\n",
            "Name: count, dtype: int64\n"
          ]
        }
      ]
    },
    {
      "cell_type": "markdown",
      "source": [
        "**3.3: Observation Activity Type (ID Method)**"
      ],
      "metadata": {
        "id": "BgyU_ww7sj7V"
      }
    },
    {
      "cell_type": "code",
      "source": [
        "# Count how many times each ID method was used (e.g., Singing, Calling, Visualization)\n",
        "activity_methods = combined_df['ID_Method'].value_counts()\n",
        "print(\"Observation Activity Types:\\n\", activity_methods)\n"
      ],
      "metadata": {
        "colab": {
          "base_uri": "https://localhost:8080/"
        },
        "id": "Pi8CoUe-so2b",
        "outputId": "5ac46511-c285-4222-f323-9b593172a1fd"
      },
      "execution_count": null,
      "outputs": [
        {
          "output_type": "stream",
          "name": "stdout",
          "text": [
            "Observation Activity Types:\n",
            " ID_Method\n",
            "Singing          9620\n",
            "Calling          3940\n",
            "Visualization    1806\n",
            "Unknown             2\n",
            "Name: count, dtype: int64\n"
          ]
        }
      ]
    },
    {
      "cell_type": "markdown",
      "source": [
        "**3.4: Observation Time Duration**"
      ],
      "metadata": {
        "id": "ic3L8Dc8tMWq"
      }
    },
    {
      "cell_type": "code",
      "source": [
        "# Display unique interval lengths to see how long observations typically lasted\n",
        "intervals = combined_df['Interval_Length'].value_counts()\n",
        "print(\"Observation Durations:\\n\", intervals)\n"
      ],
      "metadata": {
        "colab": {
          "base_uri": "https://localhost:8080/"
        },
        "id": "v2g5dKLctQ7f",
        "outputId": "4a9c2ba6-fa51-436d-e4ff-ed0a94795ca4"
      },
      "execution_count": null,
      "outputs": [
        {
          "output_type": "stream",
          "name": "stdout",
          "text": [
            "Observation Durations:\n",
            " Interval_Length\n",
            "0-2.5 min       7752\n",
            "2.5 - 5 min     3149\n",
            "5 - 7.5 min     2386\n",
            "7.5 - 10 min    2081\n",
            "Name: count, dtype: int64\n"
          ]
        }
      ]
    },
    {
      "cell_type": "markdown",
      "source": [
        "**3.5: Sex Distribution**"
      ],
      "metadata": {
        "id": "SgAQ-HUmtXsG"
      }
    },
    {
      "cell_type": "code",
      "source": [
        "# Count how many observations were marked male, female, or undetermined\n",
        "sex_ratio = combined_df['Sex'].value_counts()\n",
        "print(\"Sex Ratio:\\n\", sex_ratio)\n"
      ],
      "metadata": {
        "colab": {
          "base_uri": "https://localhost:8080/"
        },
        "id": "5HY67nhata6b",
        "outputId": "3ad21b16-a7ab-4ef1-8525-c686bfbbe064"
      },
      "execution_count": null,
      "outputs": [
        {
          "output_type": "stream",
          "name": "stdout",
          "text": [
            "Sex Ratio:\n",
            " Sex\n",
            "Undetermined    12133\n",
            "Male             3109\n",
            "Female            126\n",
            "Name: count, dtype: int64\n"
          ]
        }
      ]
    },
    {
      "cell_type": "markdown",
      "source": [
        "#**4. Environmental condition**"
      ],
      "metadata": {
        "id": "3AHvWCJKuaVn"
      }
    },
    {
      "cell_type": "markdown",
      "source": [
        "**4.1: Summary of Temperature & Humidity**"
      ],
      "metadata": {
        "id": "cbaVvKS9umnM"
      }
    },
    {
      "cell_type": "code",
      "source": [
        "# Display basic statistics (mean, min, max, etc.) for temperature and humidity\n",
        "print(\"Temperature Summary:\\n\", combined_df['Temperature'].describe())\n",
        "print(\"Humidity Summary:\\n\", combined_df['Humidity'].describe())\n"
      ],
      "metadata": {
        "colab": {
          "base_uri": "https://localhost:8080/"
        },
        "id": "gF1fYoJUvNei",
        "outputId": "73aafbc6-cbf0-478d-dd3f-8c8c3179b089"
      },
      "execution_count": null,
      "outputs": [
        {
          "output_type": "stream",
          "name": "stdout",
          "text": [
            "Temperature Summary:\n",
            " count    15368.000000\n",
            "mean        22.493285\n",
            "std          4.193385\n",
            "min         11.000000\n",
            "25%         19.700001\n",
            "50%         22.200001\n",
            "75%         25.000000\n",
            "max         37.299999\n",
            "Name: Temperature, dtype: float64\n",
            "Humidity Summary:\n",
            " count    15368.000000\n",
            "mean        74.157763\n",
            "std         12.169331\n",
            "min          7.300000\n",
            "25%         68.000000\n",
            "50%         76.599998\n",
            "75%         83.325003\n",
            "max         98.800003\n",
            "Name: Humidity, dtype: float64\n"
          ]
        }
      ]
    },
    {
      "cell_type": "markdown",
      "source": [
        "**4.2: Sky Conditions**"
      ],
      "metadata": {
        "id": "1iIihFgPvdni"
      }
    },
    {
      "cell_type": "code",
      "source": [
        "# Count how many observations were made under each sky condition (e.g., clear, cloudy)\n",
        "sky_conditions = combined_df['Sky'].value_counts()\n",
        "print(\"Sky Conditions:\\n\", sky_conditions)\n"
      ],
      "metadata": {
        "colab": {
          "base_uri": "https://localhost:8080/"
        },
        "id": "GbSfWwxHvhlX",
        "outputId": "a5ef73b0-8125-4698-ea2d-a5a84b9e5fe4"
      },
      "execution_count": null,
      "outputs": [
        {
          "output_type": "stream",
          "name": "stdout",
          "text": [
            "Sky Conditions:\n",
            " Sky\n",
            "Partly Cloudy          6172\n",
            "Clear or Few Clouds    5330\n",
            "Cloudy/Overcast        2916\n",
            "Fog                     598\n",
            "Mist/Drizzle            352\n",
            "Name: count, dtype: int64\n"
          ]
        }
      ]
    },
    {
      "cell_type": "markdown",
      "source": [
        "**4.3: Wind Conditions**"
      ],
      "metadata": {
        "id": "pswDlOGWvoDr"
      }
    },
    {
      "cell_type": "code",
      "source": [
        "# Count wind condition categories reported during bird observations\n",
        "wind_conditions = combined_df['Wind'].value_counts()\n",
        "print(\"Wind Conditions:\\n\", wind_conditions)\n"
      ],
      "metadata": {
        "colab": {
          "base_uri": "https://localhost:8080/"
        },
        "id": "HqVAP-knvrfK",
        "outputId": "5ea51791-f634-4adb-b014-77dd31bc6e9e"
      },
      "execution_count": null,
      "outputs": [
        {
          "output_type": "stream",
          "name": "stdout",
          "text": [
            "Wind Conditions:\n",
            " Wind\n",
            "Light air movement (1-3 mph) smoke drifts     7635\n",
            "Calm (< 1 mph) smoke rises vertically         4210\n",
            "Light breeze (4-7 mph) wind felt on face      3159\n",
            "Gentle breeze (8-12 mph), leaves in motion     364\n",
            "Name: count, dtype: int64\n"
          ]
        }
      ]
    },
    {
      "cell_type": "markdown",
      "source": [
        "**4.4: Disturbance Effects**"
      ],
      "metadata": {
        "id": "TPBdW1QCvwfA"
      }
    },
    {
      "cell_type": "code",
      "source": [
        "# Assess how many observations recorded disturbance levels (e.g., no effect, slight effect)\n",
        "disturbance_impact = combined_df['Disturbance'].value_counts()\n",
        "print(\"Disturbance Effects:\\n\", disturbance_impact)\n"
      ],
      "metadata": {
        "colab": {
          "base_uri": "https://localhost:8080/"
        },
        "id": "-rCDMloMvz8Z",
        "outputId": "3126f643-e422-4948-924f-8e070b8bedf4"
      },
      "execution_count": null,
      "outputs": [
        {
          "output_type": "stream",
          "name": "stdout",
          "text": [
            "Disturbance Effects:\n",
            " Disturbance\n",
            "No effect on count          7525\n",
            "Slight effect on count      5836\n",
            "Moderate effect on count    1577\n",
            "Serious effect on count      430\n",
            "Name: count, dtype: int64\n"
          ]
        }
      ]
    },
    {
      "cell_type": "markdown",
      "source": [
        "# **5. Distance & Flyover Behavior**"
      ],
      "metadata": {
        "id": "jWLkbjEZwg_C"
      }
    },
    {
      "cell_type": "markdown",
      "source": [
        "**5.1: Distance Distribution**"
      ],
      "metadata": {
        "id": "d2HYRL14wtdi"
      }
    },
    {
      "cell_type": "code",
      "source": [
        "# Count how far birds were typically observed from the observer\n",
        "distance_distribution = combined_df['Distance'].value_counts()\n",
        "print(\"Distance Distribution:\\n\", distance_distribution)\n"
      ],
      "metadata": {
        "colab": {
          "base_uri": "https://localhost:8080/"
        },
        "id": "wpMudMtlwnuL",
        "outputId": "1ccf4afa-e274-4416-9356-5d44eca637ad"
      },
      "execution_count": null,
      "outputs": [
        {
          "output_type": "stream",
          "name": "stdout",
          "text": [
            "Distance Distribution:\n",
            " Distance\n",
            "50 - 100 Meters    7774\n",
            "<= 50 Meters       6905\n",
            "Unknown             689\n",
            "Name: count, dtype: int64\n"
          ]
        }
      ]
    },
    {
      "cell_type": "markdown",
      "source": [
        "**5.2: Flyover Behavior**"
      ],
      "metadata": {
        "id": "eHgParA2wxaZ"
      }
    },
    {
      "cell_type": "code",
      "source": [
        "# Count how often birds were flying over the observer during observation\n",
        "flyover_counts = combined_df['Flyover_Observed'].value_counts()\n",
        "print(\"Flyover Observations:\\n\", flyover_counts)\n"
      ],
      "metadata": {
        "colab": {
          "base_uri": "https://localhost:8080/"
        },
        "id": "552p91Obw1KS",
        "outputId": "a1acb429-b9ce-411a-c227-92bf7f97534f"
      },
      "execution_count": null,
      "outputs": [
        {
          "output_type": "stream",
          "name": "stdout",
          "text": [
            "Flyover Observations:\n",
            " Flyover_Observed\n",
            "False    14679\n",
            "True       689\n",
            "Name: count, dtype: int64\n"
          ]
        }
      ]
    },
    {
      "cell_type": "markdown",
      "source": [
        "# **6. Observer Trends**"
      ],
      "metadata": {
        "id": "k76kozRcw6LF"
      }
    },
    {
      "cell_type": "markdown",
      "source": [
        "**6.1: Most Active Observers**"
      ],
      "metadata": {
        "id": "vNZ6ULPxxDWj"
      }
    },
    {
      "cell_type": "code",
      "source": [
        "# Identify observers with the highest number of records\n",
        "top_observers = combined_df['Observer'].value_counts().head(10)\n",
        "print(\"Top Observers:\\n\", top_observers)\n"
      ],
      "metadata": {
        "colab": {
          "base_uri": "https://localhost:8080/"
        },
        "id": "shYeq0LrxGmt",
        "outputId": "a0991ea2-5476-410a-ce22-63a46cbcc3ff"
      },
      "execution_count": null,
      "outputs": [
        {
          "output_type": "stream",
          "name": "stdout",
          "text": [
            "Top Observers:\n",
            " Observer\n",
            "Elizabeth Oswald    5759\n",
            "Kimberly Serno      5346\n",
            "Brian Swimelar      4263\n",
            "Name: count, dtype: int64\n"
          ]
        }
      ]
    },
    {
      "cell_type": "markdown",
      "source": [
        "**6.2: Visit Impact on Species Count**"
      ],
      "metadata": {
        "id": "YpsVdBT9xL5R"
      }
    },
    {
      "cell_type": "code",
      "source": [
        "# Analyze how species diversity changes across different visits\n",
        "visit_effect = combined_df.groupby('Visit')['Scientific_Name'].nunique().sort_index()\n",
        "print(\"Species Diversity by Visit Number:\\n\", visit_effect)\n"
      ],
      "metadata": {
        "colab": {
          "base_uri": "https://localhost:8080/"
        },
        "id": "bOnWtj33xQZL",
        "outputId": "fa65a914-b890-4ee3-b99a-aef2b07e2bc8"
      },
      "execution_count": null,
      "outputs": [
        {
          "output_type": "stream",
          "name": "stdout",
          "text": [
            "Species Diversity by Visit Number:\n",
            " Visit\n",
            "1    119\n",
            "2    100\n",
            "3     74\n",
            "Name: Scientific_Name, dtype: int64\n"
          ]
        }
      ]
    },
    {
      "cell_type": "markdown",
      "source": [
        "# **7. Conservation Insights**"
      ],
      "metadata": {
        "id": "OGvlyAajxWc2"
      }
    },
    {
      "cell_type": "markdown",
      "source": [
        "**7.1: Species on the PIF Watchlist**"
      ],
      "metadata": {
        "id": "uHaIB1StxbcF"
      }
    },
    {
      "cell_type": "code",
      "source": [
        "# List most frequently observed species that are flagged as conservation watchlist species\n",
        "watchlist_species = combined_df[combined_df['PIF_Watchlist_Status'] == True]['Scientific_Name'].value_counts().head(10)\n",
        "print(\"PIF Watchlist Species:\\n\", watchlist_species)\n"
      ],
      "metadata": {
        "colab": {
          "base_uri": "https://localhost:8080/"
        },
        "id": "wdoOd1MWxgD5",
        "outputId": "c45058b6-a531-41ca-ea2d-72c1fcf1e9cf"
      },
      "execution_count": 37,
      "outputs": [
        {
          "output_type": "stream",
          "name": "stdout",
          "text": [
            "PIF Watchlist Species:\n",
            " Scientific_Name\n",
            "Hylocichla mustelina          309\n",
            "Helmitheros vermivorus         31\n",
            "Setophaga discolor             25\n",
            "Setophaga cerulea               7\n",
            "Oporornis formosus              2\n",
            "Empidonax traillii              2\n",
            "Vermivora cyanoptera            1\n",
            "Melanerpes erythrocephalus      1\n",
            "Name: count, dtype: int64\n"
          ]
        }
      ]
    },
    {
      "cell_type": "markdown",
      "source": [
        "**7.2: Regional Stewardship Species**"
      ],
      "metadata": {
        "id": "WSwskGSjxpHk"
      }
    },
    {
      "cell_type": "code",
      "source": [
        "# List species that have high regional stewardship importance\n",
        "steward_species = combined_df[combined_df['Regional_Stewardship_Status'] == True]['Scientific_Name'].value_counts().head(10)\n",
        "print(\"Regional Stewardship Species:\\n\", steward_species)\n"
      ],
      "metadata": {
        "colab": {
          "base_uri": "https://localhost:8080/"
        },
        "id": "LNt49Pu0c-pz",
        "outputId": "75b071b8-47d8-4b16-e16d-d787123103bb"
      },
      "execution_count": 38,
      "outputs": [
        {
          "output_type": "stream",
          "name": "stdout",
          "text": [
            "Regional Stewardship Species:\n",
            " Scientific_Name\n",
            "Passerina cyanea           611\n",
            "Contopus virens            574\n",
            "Spizella pusilla           492\n",
            "Empidonax virescens        462\n",
            "Poecile carolinensis       365\n",
            "Hylocichla mustelina       309\n",
            "Picoides pubescens         260\n",
            "Pipilo erythrophthalmus    257\n",
            "Piranga olivacea           216\n",
            "Setophaga citrina           64\n",
            "Name: count, dtype: int64\n"
          ]
        }
      ]
    },
    {
      "cell_type": "markdown",
      "source": [
        "**7.3:Most Common AOU Codes**"
      ],
      "metadata": {
        "id": "TyCG75_rdo-V"
      }
    },
    {
      "cell_type": "code",
      "source": [
        "# Display the top AOU codes based on observation frequency\n",
        "aou_top = combined_df['AOU_Code'].value_counts().head(10)\n",
        "print(\"Top AOU Codes:\\n\", aou_top)\n"
      ],
      "metadata": {
        "colab": {
          "base_uri": "https://localhost:8080/"
        },
        "id": "oMBLUxqSd0WM",
        "outputId": "9b17c86d-3c75-4fdf-c4fe-6174c8d72e90"
      },
      "execution_count": 39,
      "outputs": [
        {
          "output_type": "stream",
          "name": "stdout",
          "text": [
            "Top AOU Codes:\n",
            " AOU_Code\n",
            "NOCA    1125\n",
            "CARW     993\n",
            "REVI     737\n",
            "ETTI     720\n",
            "INBU     611\n",
            "EAWP     574\n",
            "FISP     492\n",
            "RBWO     488\n",
            "AMRO     470\n",
            "ACFL     462\n",
            "Name: count, dtype: int64\n"
          ]
        }
      ]
    },
    {
      "cell_type": "markdown",
      "source": [
        "## **Manupulation Done & Insights Found**\n"
      ],
      "metadata": {
        "id": "3X61V2EFhIqB"
      }
    },
    {
      "cell_type": "markdown",
      "source": [
        "# **Manupulations Done**"
      ],
      "metadata": {
        "id": "2JCYrIFPhLqC"
      }
    },
    {
      "cell_type": "markdown",
      "source": [
        "1. **Data Cleaning**\n",
        "\n",
        "\n",
        "*   Removed columns with too many missing values (TaxonCode,Sub_Unit_Code, Site_Name, etc.)\n",
        "\n",
        "*   Filled missing categorical values:\n",
        "\n",
        "\n",
        "           *   Sex → filled with 'Undetermined'   \n",
        "           *   Distance, ID_Method → filled with 'Unknown'\n",
        "*   Converted Date, Start_Time, and End_Time into proper datetime formats.\n",
        "\n",
        "🔹 2. **Feature Engineering**\n",
        "\n",
        "\n",
        "\n",
        "*  Extracted Year and Month from Date\n",
        "*  Created Season based on month (Spring, Summer, Fall, Winter)\n",
        "*  Extracted Hour from Start_Time for time-of-day analysis\n",
        "* Combined Forest and Grassland sheets into a single cleaned DataFrame\n"
      ],
      "metadata": {
        "id": "0jR0t9yLhXCw"
      }
    },
    {
      "cell_type": "markdown",
      "source": [
        "## **Insights Found**\n"
      ],
      "metadata": {
        "id": "0fue5DT0hdj2"
      }
    },
    {
      "cell_type": "markdown",
      "source": [
        "**1. Temporal Insights**\n",
        "\n",
        "* All observations are from 2018\n",
        "\n",
        "* Most activity recorded in June, during Summer\n",
        "\n",
        "* Peak bird activity: 6–8 AM, especially 7 AM\n",
        "\n",
        "**2. Spatial Insights**\n",
        "\n",
        "* Forest and Grassland have nearly equal species diversity\n",
        "* Most diverse unit: MONO (100 species)\n",
        "* Top plots: MONO-0057,0066, MANA 0047,ANTI 0105 with 27–26 species\n",
        "\n",
        "**3. Species Insights**\n",
        "\n",
        "* Total unique species: 127\n",
        "\n",
        "* Most detections via Singing and Calling\n",
        "* Many birds marked as ‘Undetermined’ sex\n",
        "\n",
        "**4. Environmental Insights**\n",
        "\n",
        "* Avg Temp: 22.2°C, Humidity: 76.5%\n",
        "* Mostly Clear or Partly Cloudy skies\n",
        "* Disturbance mostly reported as ‘No effect’\n",
        "\n",
        "**5.  Distance & Behavior**\n",
        "\n",
        "* Most birds observed within 50-100 meters\n",
        "\n",
        "* Flyovers were rare\n",
        "\n",
        "**6. Observer Trends**\n",
        "\n",
        "* Top contributors: Elizabeth Oswald, Kimberly Serno\n",
        "\n",
        "* Visit 1 had highest species diversity\n",
        "\n",
        "**7. Conservation Insights**\n",
        "\n",
        "* Watchlist and Stewardship species like Hylocichla mustelina, Passerina cyanea were observed\n",
        "\n",
        "* Frequent AOU codes: NOCA, CARW, REVI\n",
        "\n"
      ],
      "metadata": {
        "id": "bl5gQLWMhiX5"
      }
    },
    {
      "cell_type": "markdown",
      "source": [
        "# **4. Visualisation**"
      ],
      "metadata": {
        "id": "QJ1YDxYlg60t"
      }
    },
    {
      "cell_type": "markdown",
      "source": [
        "The dashboard built with Streamlit + Plotly allows:\n",
        "- Species-level filtering\n",
        "- Monthly and seasonal trend visualization\n",
        "- Heatmap exploration of temporal density\n",
        "- Environmental correlation charts\n",
        "\n",
        "Deployment Link: (https://bird-observation-analysis-ff6t6oks43qpkypq6sx2qp.streamlit.app/)"
      ],
      "metadata": {
        "id": "nQJZGb6ahON9"
      }
    },
    {
      "cell_type": "markdown",
      "source": [
        "# **5.Conclusion**"
      ],
      "metadata": {
        "id": "ZF1QArJPh_sd"
      }
    },
    {
      "cell_type": "markdown",
      "source": [
        "This project focuses on analyzing bird observation data collected from multiple administrative units across forest and grassland habitats. The dataset includes detailed records of species sightings, observation times, environmental conditions, and observer details.\n",
        "\n",
        "The analysis reveals that habitat type, time of day, and environmental conditions play critical roles in bird sightings.\n",
        "By combining data-driven insights with interactive visualization, this project enables informed decision-making for biodiversity conservation and ecological research."
      ],
      "metadata": {
        "id": "0VrCANyXiFGx"
      }
    }
  ]
}